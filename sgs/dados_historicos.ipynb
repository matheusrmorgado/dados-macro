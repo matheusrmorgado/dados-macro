{
  "nbformat": 4,
  "nbformat_minor": 0,
  "metadata": {
    "colab": {
      "provenance": []
    },
    "kernelspec": {
      "name": "python3",
      "display_name": "Python 3"
    },
    "language_info": {
      "name": "python"
    }
  },
  "cells": [
    {
      "cell_type": "markdown",
      "source": [
        "## Imports"
      ],
      "metadata": {
        "id": "6ZueHVEDZR56"
      }
    },
    {
      "cell_type": "code",
      "source": [
        "pip install sgs"
      ],
      "metadata": {
        "colab": {
          "base_uri": "https://localhost:8080/"
        },
        "id": "FdAt_BJ51_aj",
        "outputId": "8f1f383a-63d9-462d-e485-7afa396c043b"
      },
      "execution_count": null,
      "outputs": [
        {
          "output_type": "stream",
          "name": "stdout",
          "text": [
            "Looking in indexes: https://pypi.org/simple, https://us-python.pkg.dev/colab-wheels/public/simple/\n",
            "Collecting sgs\n",
            "  Downloading sgs-2.1.1-py3-none-any.whl (9.8 kB)\n",
            "Requirement already satisfied: beautifulsoup4>=4.7.1 in /usr/local/lib/python3.10/dist-packages (from sgs) (4.11.2)\n",
            "Requirement already satisfied: html5lib>=1.0.1 in /usr/local/lib/python3.10/dist-packages (from sgs) (1.1)\n",
            "Requirement already satisfied: pandas>=0.24.2 in /usr/local/lib/python3.10/dist-packages (from sgs) (1.5.3)\n",
            "Collecting retrying>=1.3.3 (from sgs)\n",
            "  Downloading retrying-1.3.4-py3-none-any.whl (11 kB)\n",
            "Requirement already satisfied: requests>=2.22.0 in /usr/local/lib/python3.10/dist-packages (from sgs) (2.27.1)\n",
            "Requirement already satisfied: soupsieve>1.2 in /usr/local/lib/python3.10/dist-packages (from beautifulsoup4>=4.7.1->sgs) (2.4.1)\n",
            "Requirement already satisfied: six>=1.9 in /usr/local/lib/python3.10/dist-packages (from html5lib>=1.0.1->sgs) (1.16.0)\n",
            "Requirement already satisfied: webencodings in /usr/local/lib/python3.10/dist-packages (from html5lib>=1.0.1->sgs) (0.5.1)\n",
            "Requirement already satisfied: python-dateutil>=2.8.1 in /usr/local/lib/python3.10/dist-packages (from pandas>=0.24.2->sgs) (2.8.2)\n",
            "Requirement already satisfied: pytz>=2020.1 in /usr/local/lib/python3.10/dist-packages (from pandas>=0.24.2->sgs) (2022.7.1)\n",
            "Requirement already satisfied: numpy>=1.21.0 in /usr/local/lib/python3.10/dist-packages (from pandas>=0.24.2->sgs) (1.22.4)\n",
            "Requirement already satisfied: urllib3<1.27,>=1.21.1 in /usr/local/lib/python3.10/dist-packages (from requests>=2.22.0->sgs) (1.26.15)\n",
            "Requirement already satisfied: certifi>=2017.4.17 in /usr/local/lib/python3.10/dist-packages (from requests>=2.22.0->sgs) (2022.12.7)\n",
            "Requirement already satisfied: charset-normalizer~=2.0.0 in /usr/local/lib/python3.10/dist-packages (from requests>=2.22.0->sgs) (2.0.12)\n",
            "Requirement already satisfied: idna<4,>=2.5 in /usr/local/lib/python3.10/dist-packages (from requests>=2.22.0->sgs) (3.4)\n",
            "Installing collected packages: retrying, sgs\n",
            "Successfully installed retrying-1.3.4 sgs-2.1.1\n"
          ]
        }
      ]
    },
    {
      "cell_type": "code",
      "execution_count": null,
      "metadata": {
        "id": "bKdFLVvR7iaF"
      },
      "outputs": [],
      "source": [
        "import pandas as pd\n",
        "import sgs\n",
        "from datetime import date, datetime"
      ]
    },
    {
      "cell_type": "markdown",
      "source": [
        "## Datas de referência"
      ],
      "metadata": {
        "id": "y5KLukKlZbhh"
      }
    },
    {
      "cell_type": "code",
      "source": [
        "today = date.today()\n",
        "now = datetime.now()\n",
        "\n",
        "start_date = '01/01/2009'\n",
        "end_date = today.strftime(\"%d/%m/%Y\")"
      ],
      "metadata": {
        "id": "oKBuWcVlIs2W"
      },
      "execution_count": null,
      "outputs": []
    },
    {
      "cell_type": "markdown",
      "source": [
        "## Definição de métricas"
      ],
      "metadata": {
        "id": "wIKKUBmiZf5s"
      }
    },
    {
      "cell_type": "code",
      "source": [
        "''' ****************************************************************************************************************************************************************\n",
        "SELIC_CODE = 4189 # Taxa de juros - Selic acumulada no mês anualizada base 252\n",
        "EXCHANGE_CODE = 3697 # Taxa de câmbio - Livre - Dólar americano (compra) - Média de período - mensal\n",
        "IPCA_CODE = 13522 # Índice nacional de preços ao consumidor - amplo (IPCA) - em 12 meses\n",
        "IGPM_CODE = 189 # Índice geral de preços do mercado (IGP-M)\n",
        "**************************************************************************************************************************************************************** '''\n",
        "\n",
        "reports_to_save = {\n",
        "    'SELIC_CODE':{\n",
        "        'CODE':4189,\n",
        "        'ALIAS':'selic_rate'\n",
        "    }\n",
        "    ,'EXCHANGE_CODE':{\n",
        "        'CODE':3697,\n",
        "        'ALIAS':'exchange_rate'\n",
        "    }\n",
        "    ,'IPCA_CODE':{\n",
        "        'CODE':13522,\n",
        "        'ALIAS':'ipca_rate'\n",
        "    }\n",
        "    ,'IGPM_CODE':{\n",
        "        'CODE':189,\n",
        "        'ALIAS':'igpm_rate'\n",
        "    }\n",
        "}"
      ],
      "metadata": {
        "id": "vhJTmTtQbF91"
      },
      "execution_count": null,
      "outputs": []
    },
    {
      "cell_type": "markdown",
      "source": [
        "## Criação de tabela"
      ],
      "metadata": {
        "id": "naVL3venZl1a"
      }
    },
    {
      "cell_type": "code",
      "source": [
        "df_sgs = sgs.dataframe([reports_to_save[x]['CODE'] for x in reports_to_save], start=start_date, end=end_date)\n",
        "df_export = df_sgs.rename(columns = {reports_to_save[x]['CODE']:reports_to_save[x]['ALIAS'] for x in reports_to_save})\n",
        "\n",
        "df_export.reset_index(inplace=True)\n",
        "df_export = df_export.rename(columns = {'index':'reference_date'})\n",
        "\n",
        "df_export['last_update'] = now\n",
        "df_export.insert(0, 'last_update', df_export.pop('last_update'))"
      ],
      "metadata": {
        "id": "iw-Qk3fpsU20"
      },
      "execution_count": null,
      "outputs": []
    },
    {
      "cell_type": "markdown",
      "source": [
        "## Visualização"
      ],
      "metadata": {
        "id": "da0SYOYuZq7K"
      }
    },
    {
      "cell_type": "code",
      "source": [
        "df_export"
      ],
      "metadata": {
        "colab": {
          "base_uri": "https://localhost:8080/",
          "height": 661
        },
        "id": "CS29luTLPGtJ",
        "outputId": "829924b4-8dd1-44c1-d76c-d816ccf1a959"
      },
      "execution_count": null,
      "outputs": [
        {
          "output_type": "execute_result",
          "data": {
            "text/plain": [
              "                   last_update reference_date  selic_rate  exchange_rate  \\\n",
              "0   2023-05-22 12:43:20.831685     2009-01-01       13.32         2.3066   \n",
              "1   2023-05-22 12:43:20.831685     2009-02-01       12.66         2.3119   \n",
              "2   2023-05-22 12:43:20.831685     2009-03-01       11.70         2.3130   \n",
              "3   2023-05-22 12:43:20.831685     2009-04-01       11.11         2.2051   \n",
              "4   2023-05-22 12:43:20.831685     2009-05-01       10.16         2.0601   \n",
              "..                         ...            ...         ...            ...   \n",
              "168 2023-05-22 12:43:20.831685     2023-01-01       13.65         5.2001   \n",
              "169 2023-05-22 12:43:20.831685     2023-02-01       13.65         5.1711   \n",
              "170 2023-05-22 12:43:20.831685     2023-03-01       13.65         5.2109   \n",
              "171 2023-05-22 12:43:20.831685     2023-04-01       13.65         5.0191   \n",
              "172 2023-05-22 12:43:20.831685     2023-05-01       13.65            NaN   \n",
              "\n",
              "     ipca_rate  igpm_rate  unemployment_rate  income_commitment_rate  \\\n",
              "0         5.84      -0.44                NaN                   20.89   \n",
              "1         5.90       0.26                NaN                   20.99   \n",
              "2         5.61      -0.74                NaN                   21.07   \n",
              "3         5.53      -0.15                NaN                   21.15   \n",
              "4         5.20      -0.07                NaN                   21.34   \n",
              "..         ...        ...                ...                     ...   \n",
              "168       5.77       0.21                8.4                   27.39   \n",
              "169       5.60      -0.06                8.6                   27.42   \n",
              "170       4.65       0.05                8.8                     NaN   \n",
              "171       4.18      -0.95                NaN                     NaN   \n",
              "172        NaN        NaN                NaN                     NaN   \n",
              "\n",
              "     household_debt_rate  ibc_br  pf_delinquency_rate  pf_interest_rate  \\\n",
              "0                  27.26  121.36                  NaN               NaN   \n",
              "1                  27.26  122.31                  NaN               NaN   \n",
              "2                  27.32  122.97                  NaN               NaN   \n",
              "3                  27.49  123.60                  NaN               NaN   \n",
              "4                  27.85  124.84                  NaN               NaN   \n",
              "..                   ...     ...                  ...               ...   \n",
              "168                48.88  143.68                 6.10             56.91   \n",
              "169                48.60  147.31                 6.12             58.31   \n",
              "170                  NaN  147.09                 6.17             58.26   \n",
              "171                  NaN     NaN                  NaN               NaN   \n",
              "172                  NaN     NaN                  NaN               NaN   \n",
              "\n",
              "     pj_delinquency_rate  pj_interest_rate  \n",
              "0                    NaN               NaN  \n",
              "1                    NaN               NaN  \n",
              "2                    NaN               NaN  \n",
              "3                    NaN               NaN  \n",
              "4                    NaN               NaN  \n",
              "..                   ...               ...  \n",
              "168                 2.29             25.25  \n",
              "169                 2.37             24.09  \n",
              "170                 2.45             24.11  \n",
              "171                  NaN               NaN  \n",
              "172                  NaN               NaN  \n",
              "\n",
              "[173 rows x 14 columns]"
            ],
            "text/html": [
              "\n",
              "  <div id=\"df-09879a10-91e0-45f5-bbbe-add33f1cc8f7\">\n",
              "    <div class=\"colab-df-container\">\n",
              "      <div>\n",
              "<style scoped>\n",
              "    .dataframe tbody tr th:only-of-type {\n",
              "        vertical-align: middle;\n",
              "    }\n",
              "\n",
              "    .dataframe tbody tr th {\n",
              "        vertical-align: top;\n",
              "    }\n",
              "\n",
              "    .dataframe thead th {\n",
              "        text-align: right;\n",
              "    }\n",
              "</style>\n",
              "<table border=\"1\" class=\"dataframe\">\n",
              "  <thead>\n",
              "    <tr style=\"text-align: right;\">\n",
              "      <th></th>\n",
              "      <th>last_update</th>\n",
              "      <th>reference_date</th>\n",
              "      <th>selic_rate</th>\n",
              "      <th>exchange_rate</th>\n",
              "      <th>ipca_rate</th>\n",
              "      <th>igpm_rate</th>\n",
              "      <th>unemployment_rate</th>\n",
              "      <th>income_commitment_rate</th>\n",
              "      <th>household_debt_rate</th>\n",
              "      <th>ibc_br</th>\n",
              "      <th>pf_delinquency_rate</th>\n",
              "      <th>pf_interest_rate</th>\n",
              "      <th>pj_delinquency_rate</th>\n",
              "      <th>pj_interest_rate</th>\n",
              "    </tr>\n",
              "  </thead>\n",
              "  <tbody>\n",
              "    <tr>\n",
              "      <th>0</th>\n",
              "      <td>2023-05-22 12:43:20.831685</td>\n",
              "      <td>2009-01-01</td>\n",
              "      <td>13.32</td>\n",
              "      <td>2.3066</td>\n",
              "      <td>5.84</td>\n",
              "      <td>-0.44</td>\n",
              "      <td>NaN</td>\n",
              "      <td>20.89</td>\n",
              "      <td>27.26</td>\n",
              "      <td>121.36</td>\n",
              "      <td>NaN</td>\n",
              "      <td>NaN</td>\n",
              "      <td>NaN</td>\n",
              "      <td>NaN</td>\n",
              "    </tr>\n",
              "    <tr>\n",
              "      <th>1</th>\n",
              "      <td>2023-05-22 12:43:20.831685</td>\n",
              "      <td>2009-02-01</td>\n",
              "      <td>12.66</td>\n",
              "      <td>2.3119</td>\n",
              "      <td>5.90</td>\n",
              "      <td>0.26</td>\n",
              "      <td>NaN</td>\n",
              "      <td>20.99</td>\n",
              "      <td>27.26</td>\n",
              "      <td>122.31</td>\n",
              "      <td>NaN</td>\n",
              "      <td>NaN</td>\n",
              "      <td>NaN</td>\n",
              "      <td>NaN</td>\n",
              "    </tr>\n",
              "    <tr>\n",
              "      <th>2</th>\n",
              "      <td>2023-05-22 12:43:20.831685</td>\n",
              "      <td>2009-03-01</td>\n",
              "      <td>11.70</td>\n",
              "      <td>2.3130</td>\n",
              "      <td>5.61</td>\n",
              "      <td>-0.74</td>\n",
              "      <td>NaN</td>\n",
              "      <td>21.07</td>\n",
              "      <td>27.32</td>\n",
              "      <td>122.97</td>\n",
              "      <td>NaN</td>\n",
              "      <td>NaN</td>\n",
              "      <td>NaN</td>\n",
              "      <td>NaN</td>\n",
              "    </tr>\n",
              "    <tr>\n",
              "      <th>3</th>\n",
              "      <td>2023-05-22 12:43:20.831685</td>\n",
              "      <td>2009-04-01</td>\n",
              "      <td>11.11</td>\n",
              "      <td>2.2051</td>\n",
              "      <td>5.53</td>\n",
              "      <td>-0.15</td>\n",
              "      <td>NaN</td>\n",
              "      <td>21.15</td>\n",
              "      <td>27.49</td>\n",
              "      <td>123.60</td>\n",
              "      <td>NaN</td>\n",
              "      <td>NaN</td>\n",
              "      <td>NaN</td>\n",
              "      <td>NaN</td>\n",
              "    </tr>\n",
              "    <tr>\n",
              "      <th>4</th>\n",
              "      <td>2023-05-22 12:43:20.831685</td>\n",
              "      <td>2009-05-01</td>\n",
              "      <td>10.16</td>\n",
              "      <td>2.0601</td>\n",
              "      <td>5.20</td>\n",
              "      <td>-0.07</td>\n",
              "      <td>NaN</td>\n",
              "      <td>21.34</td>\n",
              "      <td>27.85</td>\n",
              "      <td>124.84</td>\n",
              "      <td>NaN</td>\n",
              "      <td>NaN</td>\n",
              "      <td>NaN</td>\n",
              "      <td>NaN</td>\n",
              "    </tr>\n",
              "    <tr>\n",
              "      <th>...</th>\n",
              "      <td>...</td>\n",
              "      <td>...</td>\n",
              "      <td>...</td>\n",
              "      <td>...</td>\n",
              "      <td>...</td>\n",
              "      <td>...</td>\n",
              "      <td>...</td>\n",
              "      <td>...</td>\n",
              "      <td>...</td>\n",
              "      <td>...</td>\n",
              "      <td>...</td>\n",
              "      <td>...</td>\n",
              "      <td>...</td>\n",
              "      <td>...</td>\n",
              "    </tr>\n",
              "    <tr>\n",
              "      <th>168</th>\n",
              "      <td>2023-05-22 12:43:20.831685</td>\n",
              "      <td>2023-01-01</td>\n",
              "      <td>13.65</td>\n",
              "      <td>5.2001</td>\n",
              "      <td>5.77</td>\n",
              "      <td>0.21</td>\n",
              "      <td>8.4</td>\n",
              "      <td>27.39</td>\n",
              "      <td>48.88</td>\n",
              "      <td>143.68</td>\n",
              "      <td>6.10</td>\n",
              "      <td>56.91</td>\n",
              "      <td>2.29</td>\n",
              "      <td>25.25</td>\n",
              "    </tr>\n",
              "    <tr>\n",
              "      <th>169</th>\n",
              "      <td>2023-05-22 12:43:20.831685</td>\n",
              "      <td>2023-02-01</td>\n",
              "      <td>13.65</td>\n",
              "      <td>5.1711</td>\n",
              "      <td>5.60</td>\n",
              "      <td>-0.06</td>\n",
              "      <td>8.6</td>\n",
              "      <td>27.42</td>\n",
              "      <td>48.60</td>\n",
              "      <td>147.31</td>\n",
              "      <td>6.12</td>\n",
              "      <td>58.31</td>\n",
              "      <td>2.37</td>\n",
              "      <td>24.09</td>\n",
              "    </tr>\n",
              "    <tr>\n",
              "      <th>170</th>\n",
              "      <td>2023-05-22 12:43:20.831685</td>\n",
              "      <td>2023-03-01</td>\n",
              "      <td>13.65</td>\n",
              "      <td>5.2109</td>\n",
              "      <td>4.65</td>\n",
              "      <td>0.05</td>\n",
              "      <td>8.8</td>\n",
              "      <td>NaN</td>\n",
              "      <td>NaN</td>\n",
              "      <td>147.09</td>\n",
              "      <td>6.17</td>\n",
              "      <td>58.26</td>\n",
              "      <td>2.45</td>\n",
              "      <td>24.11</td>\n",
              "    </tr>\n",
              "    <tr>\n",
              "      <th>171</th>\n",
              "      <td>2023-05-22 12:43:20.831685</td>\n",
              "      <td>2023-04-01</td>\n",
              "      <td>13.65</td>\n",
              "      <td>5.0191</td>\n",
              "      <td>4.18</td>\n",
              "      <td>-0.95</td>\n",
              "      <td>NaN</td>\n",
              "      <td>NaN</td>\n",
              "      <td>NaN</td>\n",
              "      <td>NaN</td>\n",
              "      <td>NaN</td>\n",
              "      <td>NaN</td>\n",
              "      <td>NaN</td>\n",
              "      <td>NaN</td>\n",
              "    </tr>\n",
              "    <tr>\n",
              "      <th>172</th>\n",
              "      <td>2023-05-22 12:43:20.831685</td>\n",
              "      <td>2023-05-01</td>\n",
              "      <td>13.65</td>\n",
              "      <td>NaN</td>\n",
              "      <td>NaN</td>\n",
              "      <td>NaN</td>\n",
              "      <td>NaN</td>\n",
              "      <td>NaN</td>\n",
              "      <td>NaN</td>\n",
              "      <td>NaN</td>\n",
              "      <td>NaN</td>\n",
              "      <td>NaN</td>\n",
              "      <td>NaN</td>\n",
              "      <td>NaN</td>\n",
              "    </tr>\n",
              "  </tbody>\n",
              "</table>\n",
              "<p>173 rows × 14 columns</p>\n",
              "</div>\n",
              "      <button class=\"colab-df-convert\" onclick=\"convertToInteractive('df-09879a10-91e0-45f5-bbbe-add33f1cc8f7')\"\n",
              "              title=\"Convert this dataframe to an interactive table.\"\n",
              "              style=\"display:none;\">\n",
              "        \n",
              "  <svg xmlns=\"http://www.w3.org/2000/svg\" height=\"24px\"viewBox=\"0 0 24 24\"\n",
              "       width=\"24px\">\n",
              "    <path d=\"M0 0h24v24H0V0z\" fill=\"none\"/>\n",
              "    <path d=\"M18.56 5.44l.94 2.06.94-2.06 2.06-.94-2.06-.94-.94-2.06-.94 2.06-2.06.94zm-11 1L8.5 8.5l.94-2.06 2.06-.94-2.06-.94L8.5 2.5l-.94 2.06-2.06.94zm10 10l.94 2.06.94-2.06 2.06-.94-2.06-.94-.94-2.06-.94 2.06-2.06.94z\"/><path d=\"M17.41 7.96l-1.37-1.37c-.4-.4-.92-.59-1.43-.59-.52 0-1.04.2-1.43.59L10.3 9.45l-7.72 7.72c-.78.78-.78 2.05 0 2.83L4 21.41c.39.39.9.59 1.41.59.51 0 1.02-.2 1.41-.59l7.78-7.78 2.81-2.81c.8-.78.8-2.07 0-2.86zM5.41 20L4 18.59l7.72-7.72 1.47 1.35L5.41 20z\"/>\n",
              "  </svg>\n",
              "      </button>\n",
              "      \n",
              "  <style>\n",
              "    .colab-df-container {\n",
              "      display:flex;\n",
              "      flex-wrap:wrap;\n",
              "      gap: 12px;\n",
              "    }\n",
              "\n",
              "    .colab-df-convert {\n",
              "      background-color: #E8F0FE;\n",
              "      border: none;\n",
              "      border-radius: 50%;\n",
              "      cursor: pointer;\n",
              "      display: none;\n",
              "      fill: #1967D2;\n",
              "      height: 32px;\n",
              "      padding: 0 0 0 0;\n",
              "      width: 32px;\n",
              "    }\n",
              "\n",
              "    .colab-df-convert:hover {\n",
              "      background-color: #E2EBFA;\n",
              "      box-shadow: 0px 1px 2px rgba(60, 64, 67, 0.3), 0px 1px 3px 1px rgba(60, 64, 67, 0.15);\n",
              "      fill: #174EA6;\n",
              "    }\n",
              "\n",
              "    [theme=dark] .colab-df-convert {\n",
              "      background-color: #3B4455;\n",
              "      fill: #D2E3FC;\n",
              "    }\n",
              "\n",
              "    [theme=dark] .colab-df-convert:hover {\n",
              "      background-color: #434B5C;\n",
              "      box-shadow: 0px 1px 3px 1px rgba(0, 0, 0, 0.15);\n",
              "      filter: drop-shadow(0px 1px 2px rgba(0, 0, 0, 0.3));\n",
              "      fill: #FFFFFF;\n",
              "    }\n",
              "  </style>\n",
              "\n",
              "      <script>\n",
              "        const buttonEl =\n",
              "          document.querySelector('#df-09879a10-91e0-45f5-bbbe-add33f1cc8f7 button.colab-df-convert');\n",
              "        buttonEl.style.display =\n",
              "          google.colab.kernel.accessAllowed ? 'block' : 'none';\n",
              "\n",
              "        async function convertToInteractive(key) {\n",
              "          const element = document.querySelector('#df-09879a10-91e0-45f5-bbbe-add33f1cc8f7');\n",
              "          const dataTable =\n",
              "            await google.colab.kernel.invokeFunction('convertToInteractive',\n",
              "                                                     [key], {});\n",
              "          if (!dataTable) return;\n",
              "\n",
              "          const docLinkHtml = 'Like what you see? Visit the ' +\n",
              "            '<a target=\"_blank\" href=https://colab.research.google.com/notebooks/data_table.ipynb>data table notebook</a>'\n",
              "            + ' to learn more about interactive tables.';\n",
              "          element.innerHTML = '';\n",
              "          dataTable['output_type'] = 'display_data';\n",
              "          await google.colab.output.renderOutput(dataTable, element);\n",
              "          const docLink = document.createElement('div');\n",
              "          docLink.innerHTML = docLinkHtml;\n",
              "          element.appendChild(docLink);\n",
              "        }\n",
              "      </script>\n",
              "    </div>\n",
              "  </div>\n",
              "  "
            ]
          },
          "metadata": {},
          "execution_count": 6
        }
      ]
    },
    {
      "cell_type": "markdown",
      "source": [
        "## Exportação para .xlsx"
      ],
      "metadata": {
        "id": "2ywK6C_-Zt7p"
      }
    },
    {
      "cell_type": "code",
      "source": [
        "from google.colab import drive\n",
        "drive.mount('/content/gdrive')"
      ],
      "metadata": {
        "id": "YLSW2SZvPjiP",
        "colab": {
          "base_uri": "https://localhost:8080/"
        },
        "outputId": "5d0d55c5-25fd-417b-f79c-0014c82436a2"
      },
      "execution_count": null,
      "outputs": [
        {
          "output_type": "stream",
          "name": "stdout",
          "text": [
            "Mounted at /content/gdrive\n"
          ]
        }
      ]
    },
    {
      "cell_type": "code",
      "source": [
        "df_export.to_excel(excel_writer=r'/content/gdrive/MyDrive/dados_sgs.xlsx', index=False)"
      ],
      "metadata": {
        "id": "rTbS1fD4t2oz"
      },
      "execution_count": null,
      "outputs": []
    },
    {
      "cell_type": "code",
      "source": [],
      "metadata": {
        "id": "73srRTI6CsyA"
      },
      "execution_count": null,
      "outputs": []
    }
  ]
}