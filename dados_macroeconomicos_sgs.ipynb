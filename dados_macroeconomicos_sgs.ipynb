{
  "nbformat": 4,
  "nbformat_minor": 0,
  "metadata": {
    "colab": {
      "provenance": []
    },
    "kernelspec": {
      "name": "python3",
      "display_name": "Python 3"
    },
    "language_info": {
      "name": "python"
    }
  },
  "cells": [
    {
      "cell_type": "markdown",
      "source": [
        "## Imports"
      ],
      "metadata": {
        "id": "6ZueHVEDZR56"
      }
    },
    {
      "cell_type": "code",
      "source": [
        "pip install sgs"
      ],
      "metadata": {
        "colab": {
          "base_uri": "https://localhost:8080/"
        },
        "id": "FdAt_BJ51_aj",
        "outputId": "429e7392-bacd-4ce7-9724-9290a56a770f"
      },
      "execution_count": 1,
      "outputs": [
        {
          "output_type": "stream",
          "name": "stdout",
          "text": [
            "Looking in indexes: https://pypi.org/simple, https://us-python.pkg.dev/colab-wheels/public/simple/\n",
            "Collecting sgs\n",
            "  Downloading sgs-2.1.1-py3-none-any.whl (9.8 kB)\n",
            "Requirement already satisfied: pandas>=0.24.2 in /usr/local/lib/python3.8/dist-packages (from sgs) (1.3.5)\n",
            "Requirement already satisfied: requests>=2.22.0 in /usr/local/lib/python3.8/dist-packages (from sgs) (2.25.1)\n",
            "Requirement already satisfied: html5lib>=1.0.1 in /usr/local/lib/python3.8/dist-packages (from sgs) (1.0.1)\n",
            "Collecting beautifulsoup4>=4.7.1\n",
            "  Downloading beautifulsoup4-4.11.2-py3-none-any.whl (129 kB)\n",
            "\u001b[2K     \u001b[90m━━━━━━━━━━━━━━━━━━━━━━━━━━━━━━━━━━━━━━━\u001b[0m \u001b[32m129.4/129.4 KB\u001b[0m \u001b[31m2.2 MB/s\u001b[0m eta \u001b[36m0:00:00\u001b[0m\n",
            "\u001b[?25hCollecting retrying>=1.3.3\n",
            "  Downloading retrying-1.3.4-py3-none-any.whl (11 kB)\n",
            "Collecting soupsieve>1.2\n",
            "  Downloading soupsieve-2.4-py3-none-any.whl (37 kB)\n",
            "Requirement already satisfied: webencodings in /usr/local/lib/python3.8/dist-packages (from html5lib>=1.0.1->sgs) (0.5.1)\n",
            "Requirement already satisfied: six>=1.9 in /usr/local/lib/python3.8/dist-packages (from html5lib>=1.0.1->sgs) (1.15.0)\n",
            "Requirement already satisfied: pytz>=2017.3 in /usr/local/lib/python3.8/dist-packages (from pandas>=0.24.2->sgs) (2022.7.1)\n",
            "Requirement already satisfied: numpy>=1.17.3 in /usr/local/lib/python3.8/dist-packages (from pandas>=0.24.2->sgs) (1.21.6)\n",
            "Requirement already satisfied: python-dateutil>=2.7.3 in /usr/local/lib/python3.8/dist-packages (from pandas>=0.24.2->sgs) (2.8.2)\n",
            "Requirement already satisfied: certifi>=2017.4.17 in /usr/local/lib/python3.8/dist-packages (from requests>=2.22.0->sgs) (2022.12.7)\n",
            "Requirement already satisfied: idna<3,>=2.5 in /usr/local/lib/python3.8/dist-packages (from requests>=2.22.0->sgs) (2.10)\n",
            "Requirement already satisfied: chardet<5,>=3.0.2 in /usr/local/lib/python3.8/dist-packages (from requests>=2.22.0->sgs) (4.0.0)\n",
            "Requirement already satisfied: urllib3<1.27,>=1.21.1 in /usr/local/lib/python3.8/dist-packages (from requests>=2.22.0->sgs) (1.24.3)\n",
            "Installing collected packages: soupsieve, retrying, beautifulsoup4, sgs\n",
            "  Attempting uninstall: beautifulsoup4\n",
            "    Found existing installation: beautifulsoup4 4.6.3\n",
            "    Uninstalling beautifulsoup4-4.6.3:\n",
            "      Successfully uninstalled beautifulsoup4-4.6.3\n",
            "Successfully installed beautifulsoup4-4.11.2 retrying-1.3.4 sgs-2.1.1 soupsieve-2.4\n"
          ]
        }
      ]
    },
    {
      "cell_type": "code",
      "execution_count": 2,
      "metadata": {
        "id": "bKdFLVvR7iaF"
      },
      "outputs": [],
      "source": [
        "import pandas as pd\n",
        "import sgs\n",
        "from datetime import date, datetime"
      ]
    },
    {
      "cell_type": "markdown",
      "source": [
        "## Datas de referência"
      ],
      "metadata": {
        "id": "y5KLukKlZbhh"
      }
    },
    {
      "cell_type": "code",
      "source": [
        "today = date.today()\n",
        "now = datetime.now()\n",
        "\n",
        "start_date = '01/01/2009'\n",
        "end_date = today.strftime(\"%d/%m/%Y\")"
      ],
      "metadata": {
        "id": "oKBuWcVlIs2W"
      },
      "execution_count": 3,
      "outputs": []
    },
    {
      "cell_type": "markdown",
      "source": [
        "## Definição de métricas"
      ],
      "metadata": {
        "id": "wIKKUBmiZf5s"
      }
    },
    {
      "cell_type": "code",
      "source": [
        "''' ****************************************************************************************************************************************************************\n",
        "SELIC_CODE = 4189 # Taxa de juros - Selic acumulada no mês anualizada base 252\n",
        "EXCHANGE_CODE = 3697 # Taxa de câmbio - Livre - Dólar americano (compra) - Média de período - mensal\n",
        "IPCA_CODE = 13522 # Índice nacional de preços ao consumidor - amplo (IPCA) - em 12 meses\n",
        "IGPM_CODE = 189 # Índice geral de preços do mercado (IGP-M)\n",
        "**************************************************************************************************************************************************************** '''\n",
        "\n",
        "reports_to_save = {\n",
        "    'SELIC_CODE':{\n",
        "        'CODE':4189,\n",
        "        'ALIAS':'selic_rate'\n",
        "    }\n",
        "    ,'EXCHANGE_CODE':{\n",
        "        'CODE':3697,\n",
        "        'ALIAS':'exchange_rate'\n",
        "    }\n",
        "    ,'IPCA_CODE':{\n",
        "        'CODE':13522,\n",
        "        'ALIAS':'ipca_rate'\n",
        "    }\n",
        "    ,'IGPM_CODE':{\n",
        "        'CODE':189,\n",
        "        'ALIAS':'igpm_rate'\n",
        "    }  \n",
        "}"
      ],
      "metadata": {
        "id": "vhJTmTtQbF91"
      },
      "execution_count": 4,
      "outputs": []
    },
    {
      "cell_type": "markdown",
      "source": [
        "## Criação de tabela"
      ],
      "metadata": {
        "id": "naVL3venZl1a"
      }
    },
    {
      "cell_type": "code",
      "source": [
        "df_sgs = sgs.dataframe([reports_to_save[x]['CODE'] for x in reports_to_save], start=start_date, end=end_date)\n",
        "df_final = df_sgs.rename(columns = {reports_to_save[x]['CODE']:reports_to_save[x]['ALIAS'] for x in reports_to_save})\n",
        "\n",
        "df_final.reset_index(inplace=True)\n",
        "df_final = df_final.rename(columns = {'index':'reference_date'})\n",
        "\n",
        "df_final['last_update'] = now\n",
        "df_final.insert(0, 'last_update', df_final.pop('last_update'))"
      ],
      "metadata": {
        "id": "iw-Qk3fpsU20"
      },
      "execution_count": 5,
      "outputs": []
    },
    {
      "cell_type": "markdown",
      "source": [
        "## Visualização"
      ],
      "metadata": {
        "id": "da0SYOYuZq7K"
      }
    },
    {
      "cell_type": "code",
      "source": [
        "df_final"
      ],
      "metadata": {
        "colab": {
          "base_uri": "https://localhost:8080/",
          "height": 424
        },
        "id": "CS29luTLPGtJ",
        "outputId": "e028f6b4-0abb-45b6-8262-282a608e733b"
      },
      "execution_count": 6,
      "outputs": [
        {
          "output_type": "execute_result",
          "data": {
            "text/plain": [
              "                   last_update reference_date  selic_rate  exchange_rate  \\\n",
              "0   2023-02-15 20:17:56.694479     2009-01-01       13.32         2.3066   \n",
              "1   2023-02-15 20:17:56.694479     2009-02-01       12.66         2.3119   \n",
              "2   2023-02-15 20:17:56.694479     2009-03-01       11.70         2.3130   \n",
              "3   2023-02-15 20:17:56.694479     2009-04-01       11.11         2.2051   \n",
              "4   2023-02-15 20:17:56.694479     2009-05-01       10.16         2.0601   \n",
              "..                         ...            ...         ...            ...   \n",
              "165 2023-02-15 20:17:56.694479     2022-10-01       13.65         5.2497   \n",
              "166 2023-02-15 20:17:56.694479     2022-11-01       13.65         5.2741   \n",
              "167 2023-02-15 20:17:56.694479     2022-12-01       13.65         5.2418   \n",
              "168 2023-02-15 20:17:56.694479     2023-01-01       13.65         5.2001   \n",
              "169 2023-02-15 20:17:56.694479     2023-02-01       13.65            NaN   \n",
              "\n",
              "     ipca_rate  igpm_rate  \n",
              "0         5.84      -0.44  \n",
              "1         5.90       0.26  \n",
              "2         5.61      -0.74  \n",
              "3         5.53      -0.15  \n",
              "4         5.20      -0.07  \n",
              "..         ...        ...  \n",
              "165       6.47      -0.97  \n",
              "166       5.90      -0.56  \n",
              "167       5.79       0.45  \n",
              "168       5.77       0.21  \n",
              "169        NaN        NaN  \n",
              "\n",
              "[170 rows x 6 columns]"
            ],
            "text/html": [
              "\n",
              "  <div id=\"df-1a30305d-b926-4b6a-b062-655f73416364\">\n",
              "    <div class=\"colab-df-container\">\n",
              "      <div>\n",
              "<style scoped>\n",
              "    .dataframe tbody tr th:only-of-type {\n",
              "        vertical-align: middle;\n",
              "    }\n",
              "\n",
              "    .dataframe tbody tr th {\n",
              "        vertical-align: top;\n",
              "    }\n",
              "\n",
              "    .dataframe thead th {\n",
              "        text-align: right;\n",
              "    }\n",
              "</style>\n",
              "<table border=\"1\" class=\"dataframe\">\n",
              "  <thead>\n",
              "    <tr style=\"text-align: right;\">\n",
              "      <th></th>\n",
              "      <th>last_update</th>\n",
              "      <th>reference_date</th>\n",
              "      <th>selic_rate</th>\n",
              "      <th>exchange_rate</th>\n",
              "      <th>ipca_rate</th>\n",
              "      <th>igpm_rate</th>\n",
              "    </tr>\n",
              "  </thead>\n",
              "  <tbody>\n",
              "    <tr>\n",
              "      <th>0</th>\n",
              "      <td>2023-02-15 20:17:56.694479</td>\n",
              "      <td>2009-01-01</td>\n",
              "      <td>13.32</td>\n",
              "      <td>2.3066</td>\n",
              "      <td>5.84</td>\n",
              "      <td>-0.44</td>\n",
              "    </tr>\n",
              "    <tr>\n",
              "      <th>1</th>\n",
              "      <td>2023-02-15 20:17:56.694479</td>\n",
              "      <td>2009-02-01</td>\n",
              "      <td>12.66</td>\n",
              "      <td>2.3119</td>\n",
              "      <td>5.90</td>\n",
              "      <td>0.26</td>\n",
              "    </tr>\n",
              "    <tr>\n",
              "      <th>2</th>\n",
              "      <td>2023-02-15 20:17:56.694479</td>\n",
              "      <td>2009-03-01</td>\n",
              "      <td>11.70</td>\n",
              "      <td>2.3130</td>\n",
              "      <td>5.61</td>\n",
              "      <td>-0.74</td>\n",
              "    </tr>\n",
              "    <tr>\n",
              "      <th>3</th>\n",
              "      <td>2023-02-15 20:17:56.694479</td>\n",
              "      <td>2009-04-01</td>\n",
              "      <td>11.11</td>\n",
              "      <td>2.2051</td>\n",
              "      <td>5.53</td>\n",
              "      <td>-0.15</td>\n",
              "    </tr>\n",
              "    <tr>\n",
              "      <th>4</th>\n",
              "      <td>2023-02-15 20:17:56.694479</td>\n",
              "      <td>2009-05-01</td>\n",
              "      <td>10.16</td>\n",
              "      <td>2.0601</td>\n",
              "      <td>5.20</td>\n",
              "      <td>-0.07</td>\n",
              "    </tr>\n",
              "    <tr>\n",
              "      <th>...</th>\n",
              "      <td>...</td>\n",
              "      <td>...</td>\n",
              "      <td>...</td>\n",
              "      <td>...</td>\n",
              "      <td>...</td>\n",
              "      <td>...</td>\n",
              "    </tr>\n",
              "    <tr>\n",
              "      <th>165</th>\n",
              "      <td>2023-02-15 20:17:56.694479</td>\n",
              "      <td>2022-10-01</td>\n",
              "      <td>13.65</td>\n",
              "      <td>5.2497</td>\n",
              "      <td>6.47</td>\n",
              "      <td>-0.97</td>\n",
              "    </tr>\n",
              "    <tr>\n",
              "      <th>166</th>\n",
              "      <td>2023-02-15 20:17:56.694479</td>\n",
              "      <td>2022-11-01</td>\n",
              "      <td>13.65</td>\n",
              "      <td>5.2741</td>\n",
              "      <td>5.90</td>\n",
              "      <td>-0.56</td>\n",
              "    </tr>\n",
              "    <tr>\n",
              "      <th>167</th>\n",
              "      <td>2023-02-15 20:17:56.694479</td>\n",
              "      <td>2022-12-01</td>\n",
              "      <td>13.65</td>\n",
              "      <td>5.2418</td>\n",
              "      <td>5.79</td>\n",
              "      <td>0.45</td>\n",
              "    </tr>\n",
              "    <tr>\n",
              "      <th>168</th>\n",
              "      <td>2023-02-15 20:17:56.694479</td>\n",
              "      <td>2023-01-01</td>\n",
              "      <td>13.65</td>\n",
              "      <td>5.2001</td>\n",
              "      <td>5.77</td>\n",
              "      <td>0.21</td>\n",
              "    </tr>\n",
              "    <tr>\n",
              "      <th>169</th>\n",
              "      <td>2023-02-15 20:17:56.694479</td>\n",
              "      <td>2023-02-01</td>\n",
              "      <td>13.65</td>\n",
              "      <td>NaN</td>\n",
              "      <td>NaN</td>\n",
              "      <td>NaN</td>\n",
              "    </tr>\n",
              "  </tbody>\n",
              "</table>\n",
              "<p>170 rows × 6 columns</p>\n",
              "</div>\n",
              "      <button class=\"colab-df-convert\" onclick=\"convertToInteractive('df-1a30305d-b926-4b6a-b062-655f73416364')\"\n",
              "              title=\"Convert this dataframe to an interactive table.\"\n",
              "              style=\"display:none;\">\n",
              "        \n",
              "  <svg xmlns=\"http://www.w3.org/2000/svg\" height=\"24px\"viewBox=\"0 0 24 24\"\n",
              "       width=\"24px\">\n",
              "    <path d=\"M0 0h24v24H0V0z\" fill=\"none\"/>\n",
              "    <path d=\"M18.56 5.44l.94 2.06.94-2.06 2.06-.94-2.06-.94-.94-2.06-.94 2.06-2.06.94zm-11 1L8.5 8.5l.94-2.06 2.06-.94-2.06-.94L8.5 2.5l-.94 2.06-2.06.94zm10 10l.94 2.06.94-2.06 2.06-.94-2.06-.94-.94-2.06-.94 2.06-2.06.94z\"/><path d=\"M17.41 7.96l-1.37-1.37c-.4-.4-.92-.59-1.43-.59-.52 0-1.04.2-1.43.59L10.3 9.45l-7.72 7.72c-.78.78-.78 2.05 0 2.83L4 21.41c.39.39.9.59 1.41.59.51 0 1.02-.2 1.41-.59l7.78-7.78 2.81-2.81c.8-.78.8-2.07 0-2.86zM5.41 20L4 18.59l7.72-7.72 1.47 1.35L5.41 20z\"/>\n",
              "  </svg>\n",
              "      </button>\n",
              "      \n",
              "  <style>\n",
              "    .colab-df-container {\n",
              "      display:flex;\n",
              "      flex-wrap:wrap;\n",
              "      gap: 12px;\n",
              "    }\n",
              "\n",
              "    .colab-df-convert {\n",
              "      background-color: #E8F0FE;\n",
              "      border: none;\n",
              "      border-radius: 50%;\n",
              "      cursor: pointer;\n",
              "      display: none;\n",
              "      fill: #1967D2;\n",
              "      height: 32px;\n",
              "      padding: 0 0 0 0;\n",
              "      width: 32px;\n",
              "    }\n",
              "\n",
              "    .colab-df-convert:hover {\n",
              "      background-color: #E2EBFA;\n",
              "      box-shadow: 0px 1px 2px rgba(60, 64, 67, 0.3), 0px 1px 3px 1px rgba(60, 64, 67, 0.15);\n",
              "      fill: #174EA6;\n",
              "    }\n",
              "\n",
              "    [theme=dark] .colab-df-convert {\n",
              "      background-color: #3B4455;\n",
              "      fill: #D2E3FC;\n",
              "    }\n",
              "\n",
              "    [theme=dark] .colab-df-convert:hover {\n",
              "      background-color: #434B5C;\n",
              "      box-shadow: 0px 1px 3px 1px rgba(0, 0, 0, 0.15);\n",
              "      filter: drop-shadow(0px 1px 2px rgba(0, 0, 0, 0.3));\n",
              "      fill: #FFFFFF;\n",
              "    }\n",
              "  </style>\n",
              "\n",
              "      <script>\n",
              "        const buttonEl =\n",
              "          document.querySelector('#df-1a30305d-b926-4b6a-b062-655f73416364 button.colab-df-convert');\n",
              "        buttonEl.style.display =\n",
              "          google.colab.kernel.accessAllowed ? 'block' : 'none';\n",
              "\n",
              "        async function convertToInteractive(key) {\n",
              "          const element = document.querySelector('#df-1a30305d-b926-4b6a-b062-655f73416364');\n",
              "          const dataTable =\n",
              "            await google.colab.kernel.invokeFunction('convertToInteractive',\n",
              "                                                     [key], {});\n",
              "          if (!dataTable) return;\n",
              "\n",
              "          const docLinkHtml = 'Like what you see? Visit the ' +\n",
              "            '<a target=\"_blank\" href=https://colab.research.google.com/notebooks/data_table.ipynb>data table notebook</a>'\n",
              "            + ' to learn more about interactive tables.';\n",
              "          element.innerHTML = '';\n",
              "          dataTable['output_type'] = 'display_data';\n",
              "          await google.colab.output.renderOutput(dataTable, element);\n",
              "          const docLink = document.createElement('div');\n",
              "          docLink.innerHTML = docLinkHtml;\n",
              "          element.appendChild(docLink);\n",
              "        }\n",
              "      </script>\n",
              "    </div>\n",
              "  </div>\n",
              "  "
            ]
          },
          "metadata": {},
          "execution_count": 6
        }
      ]
    },
    {
      "cell_type": "markdown",
      "source": [
        "## Exportação para .xlsx"
      ],
      "metadata": {
        "id": "2ywK6C_-Zt7p"
      }
    },
    {
      "cell_type": "code",
      "source": [
        "from google.colab import drive\n",
        "drive.mount('/content/gdrive')"
      ],
      "metadata": {
        "id": "YLSW2SZvPjiP",
        "colab": {
          "base_uri": "https://localhost:8080/"
        },
        "outputId": "4fc80d0a-a30f-4f67-992c-0ccdccf5e7c2"
      },
      "execution_count": 7,
      "outputs": [
        {
          "output_type": "stream",
          "name": "stdout",
          "text": [
            "Mounted at /content/gdrive\n"
          ]
        }
      ]
    },
    {
      "cell_type": "code",
      "source": [
        "df_final.to_excel(excel_writer=r'/content/gdrive/MyDrive/variaveis_macro.xlsx', index=False)"
      ],
      "metadata": {
        "id": "rTbS1fD4t2oz"
      },
      "execution_count": 8,
      "outputs": []
    },
    {
      "cell_type": "code",
      "source": [],
      "metadata": {
        "id": "73srRTI6CsyA"
      },
      "execution_count": null,
      "outputs": []
    }
  ]
}